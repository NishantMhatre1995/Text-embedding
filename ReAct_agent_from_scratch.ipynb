{
 "cells": [
  {
   "cell_type": "code",
   "execution_count": 1,
   "metadata": {},
   "outputs": [
    {
     "data": {
      "text/plain": [
       "True"
      ]
     },
     "execution_count": 1,
     "metadata": {},
     "output_type": "execute_result"
    }
   ],
   "source": [
    "import os \n",
    "from dotenv import find_dotenv, load_dotenv, dotenv_values\n",
    "from langchain_openai import ChatOpenAI\n",
    "import langchain_openai\n",
    "import langchain\n",
    "import langchain_groq\n",
    "# from langchain.chat_models import ChatOpenAI\n",
    "# from langchain.schema import HumanMessage\n",
    "from typing import Union, List\n",
    "import re\n",
    "from langchain.agents import tool\n",
    "from langchain.agents.format_scratchpad import format_log_to_str\n",
    "from langchain.agents.output_parsers import ReActSingleInputOutputParser\n",
    "from langchain.prompts import PromptTemplate\n",
    "from langchain.schema import AgentAction, AgentFinish\n",
    "from langchain.tools import Tool\n",
    "from langchain.tools.render import render_text_description\n",
    "\n",
    "\n",
    "# Load environment variables from a file\n",
    "load_dotenv('../.env.secret')\n",
    "#load_dotenv('.env.shared')\n",
    "#langchain.debug = True\n"
   ]
  },
  {
   "cell_type": "code",
   "execution_count": 2,
   "metadata": {},
   "outputs": [],
   "source": [
    "\n",
    "# Initialize the language model with specific parameters\n",
    "llm_model = \"gpt-3.5-turbo-0125\"\n",
    "model = ChatOpenAI(temperature=0)\n"
   ]
  },
  {
   "cell_type": "code",
   "execution_count": 3,
   "metadata": {},
   "outputs": [],
   "source": [
    "# testing\n",
    "@tool\n",
    "def get_text_length(text: str) -> int:\n",
    "    \"\"\"Returns the length of a text by characters\"\"\"\n",
    "    print(f\"get_text_length enter with {text=}\")\n",
    "    # Clean the text by stripping unwanted characters\n",
    "    text = text.strip(\"'\\n\").strip(\n",
    "        '\"'\n",
    "    ) \n",
    "\n",
    "    return len(text)\n",
    "\n",
    "\n",
    "\n",
    "def find_tool_by_name(tools: List[Tool], tool_name: str) -> Tool:\n",
    "    for tool in tools:\n",
    "        if tool.name == tool_name:\n",
    "            return tool\n",
    "    raise ValueError(f\"Tool wtih name {tool_name} not found\")"
   ]
  },
  {
   "cell_type": "code",
   "execution_count": 4,
   "metadata": {},
   "outputs": [
    {
     "name": "stdout",
     "output_type": "stream",
     "text": [
      "[Tool(name='Search', description='useful for when you need to ask with search', func=<bound method DocstoreExplorer.search of <langchain.agents.react.base.DocstoreExplorer object at 0x000001E2477012A0>>), Tool(name='Lookup', description='useful for when you need to ask with lookup', func=<bound method DocstoreExplorer.lookup of <langchain.agents.react.base.DocstoreExplorer object at 0x000001E2477012A0>>)]\n"
     ]
    },
    {
     "name": "stderr",
     "output_type": "stream",
     "text": [
      "c:\\Users\\mhatr\\anaconda3\\envs\\udemy\\lib\\site-packages\\langchain_core\\_api\\deprecation.py:139: LangChainDeprecationWarning: The class `DocstoreExplorer` was deprecated in LangChain 0.1.0 and will be removed in 0.3.0\n",
      "  warn_deprecated(\n"
     ]
    }
   ],
   "source": [
    "from langchain.agents.react.base import DocstoreExplorer\n",
    "from langchain.docstore import Wikipedia\n",
    "\n",
    "# Initialize DocstoreExplorer with Wikipedia as the document source\n",
    "docstore = DocstoreExplorer(Wikipedia())\n",
    "\n",
    "\n",
    "# Define available tools with their functionalities and descriptions\n",
    "tools = [\n",
    "    Tool(\n",
    "        name=\"Search\",\n",
    "        func=docstore.search,\n",
    "        description=\"useful for when you need to ask with search\",\n",
    "    ),\n",
    "    Tool(\n",
    "        name=\"Lookup\",\n",
    "        func=docstore.lookup,\n",
    "        description=\"useful for when you need to ask with lookup\",\n",
    "    ),\n",
    "]\n",
    "\n",
    "print(tools)\n"
   ]
  },
  {
   "cell_type": "code",
   "execution_count": null,
   "metadata": {},
   "outputs": [],
   "source": []
  },
  {
   "cell_type": "code",
   "execution_count": 5,
   "metadata": {},
   "outputs": [],
   "source": [
    "# Define the prompt template for the ReAct agent\n",
    "template = \"\"\"\n",
    "Answer the following questions as best you can. You have access to the following tools:\n",
    "\n",
    "{tools}\n",
    "\n",
    "Use the following format:\n",
    "\n",
    "Question: the input question you must answer\n",
    "Thought: you should always think about what to do\n",
    "Action: the action to take, should be one of [{tool_names}]\n",
    "Action Input: the input to the action\n",
    "Observation: the result of the action\n",
    "... (this Thought/Action/Action Input/Observation can repeat N times)\n",
    "Thought: I now know the final answer\n",
    "Final Answer: the final answer to the original input question\n",
    "\n",
    "Begin!\n",
    "\n",
    "Question: {input}\n",
    "Thought: {agent_scratchpad}\n",
    "\"\"\""
   ]
  },
  {
   "cell_type": "code",
   "execution_count": 6,
   "metadata": {},
   "outputs": [
    {
     "name": "stdout",
     "output_type": "stream",
     "text": [
      "input_variables=['agent_scratchpad', 'input'] partial_variables={'tools': \"Search(term: 'str') -> 'str' - useful for when you need to ask with search\\nLookup(term: 'str') -> 'str' - useful for when you need to ask with lookup\", 'tool_names': 'Search, Lookup'} template='\\nAnswer the following questions as best you can. You have access to the following tools:\\n\\n{tools}\\n\\nUse the following format:\\n\\nQuestion: the input question you must answer\\nThought: you should always think about what to do\\nAction: the action to take, should be one of [{tool_names}]\\nAction Input: the input to the action\\nObservation: the result of the action\\n... (this Thought/Action/Action Input/Observation can repeat N times)\\nThought: I now know the final answer\\nFinal Answer: the final answer to the original input question\\n\\nBegin!\\n\\nQuestion: {input}\\nThought: {agent_scratchpad}\\n'\n"
     ]
    }
   ],
   "source": [
    "# Create a prompt template with tools and tool names\n",
    "prompt = PromptTemplate.from_template(template=template).partial(\n",
    "    tools=render_text_description(tools),\n",
    "    tool_names=\", \".join([t.name for t in tools]),\n",
    ")\n",
    "\n",
    "print(prompt)"
   ]
  },
  {
   "cell_type": "code",
   "execution_count": 7,
   "metadata": {},
   "outputs": [],
   "source": [
    "# Initialize the language model with specific stop sequences\n",
    "llm = ChatOpenAI(\n",
    "        temperature=0,\n",
    "        stop_sequences=[\"\\nObservation\", \"Observation\"]\n",
    "    )"
   ]
  },
  {
   "cell_type": "code",
   "execution_count": 8,
   "metadata": {},
   "outputs": [],
   "source": [
    "# Define the ReAct agent with input handling and output parsing\n",
    "agent = (\n",
    "    {\n",
    "        \"input\": lambda x: x[\"input\"],\n",
    "        \"agent_scratchpad\": lambda x: format_log_to_str(x[\"agent_scratchpad\"]),\n",
    "    }\n",
    "    | prompt\n",
    "    | llm\n",
    "    | ReActSingleInputOutputParser()\n",
    ")"
   ]
  },
  {
   "cell_type": "code",
   "execution_count": 11,
   "metadata": {},
   "outputs": [
    {
     "name": "stdout",
     "output_type": "stream",
     "text": [
      "\n",
      "\n",
      " {'input': 'What profession does rohit sharma and virat kohli have in common?', 'agent_scratchpad': []}\n",
      "tool='Search' tool_input='Rohit Sharma profession' log='I should search for the professions of Rohit Sharma and Virat Kohli.\\nAction: Search\\nAction Input: \"Rohit Sharma profession\"'\n",
      "observation=\"Could not find [Rohit Sharma profession]. Similar: ['Anushka Sharma', 'KL Rahul', 'Rohit Bohra', 'Singham', 'Shoaib Ali Bukhari', 'Jyotirmoy Dey', 'Desi Boyz', 'Dhadkan Zindaggi Kii', 'Kailash Hospital', 'Maddam Sir']\" \n",
      "\n",
      "\n",
      "\n",
      " {'input': 'What profession does rohit sharma and virat kohli have in common?', 'agent_scratchpad': [(AgentAction(tool='Search', tool_input='Rohit Sharma profession', log='I should search for the professions of Rohit Sharma and Virat Kohli.\\nAction: Search\\nAction Input: \"Rohit Sharma profession\"'), \"Could not find [Rohit Sharma profession]. Similar: ['Anushka Sharma', 'KL Rahul', 'Rohit Bohra', 'Singham', 'Shoaib Ali Bukhari', 'Jyotirmoy Dey', 'Desi Boyz', 'Dhadkan Zindaggi Kii', 'Kailash Hospital', 'Maddam Sir']\")]}\n",
      "tool='Search' tool_input='Rohit Sharma occupation' log='I should try a different search term to find Rohit Sharma\\'s profession.\\nAction: Search\\nAction Input: \"Rohit Sharma occupation\"'\n",
      "observation='Nia Sharma (born Neha Sharma, 17 September 1990) is an Indian actress and model who appears in Hindi television. She is known for her roles as Manvi Chaudhary in Ek Hazaaron Mein Meri Behna Hai, Zee TV\\'s Jamai Raja as Roshni Patel, Colors TV\\'s Ishq Mein Marjawan as Aarohi Kashyap and Naagin 4 as Brinda Parekh. In 2017, she participated in Khatron Ke Khiladi 8 and finished as a finalist.\\nIn 2020, she participated in Khatron Ke Khiladi – Made in India and emerged as the winner. Sharma entered the digital world in 2017 with Vikram Bhatt\\'s web series Twisted. In 2021, she was seen in the second season of her web series Jamai 2.0, which released digitally on ZEE5. In 2022, Sharma was seen as a contestant in Colors TV\\'s dance reality show Jhalak Dikhhla Jaa 10.\\nSince 2024, she is portraying a witch \"Nishigandha\" in Colors TV\\'S supernatural thriller show Suhagan Chudail. Sharma also participated in Laughter Chefs – Unlimited Entertainment which premiered on 1 June 2024 on Colors TV.' \n",
      "\n",
      "\n",
      "\n",
      " {'input': 'What profession does rohit sharma and virat kohli have in common?', 'agent_scratchpad': [(AgentAction(tool='Search', tool_input='Rohit Sharma profession', log='I should search for the professions of Rohit Sharma and Virat Kohli.\\nAction: Search\\nAction Input: \"Rohit Sharma profession\"'), \"Could not find [Rohit Sharma profession]. Similar: ['Anushka Sharma', 'KL Rahul', 'Rohit Bohra', 'Singham', 'Shoaib Ali Bukhari', 'Jyotirmoy Dey', 'Desi Boyz', 'Dhadkan Zindaggi Kii', 'Kailash Hospital', 'Maddam Sir']\"), (AgentAction(tool='Search', tool_input='Rohit Sharma occupation', log='I should try a different search term to find Rohit Sharma\\'s profession.\\nAction: Search\\nAction Input: \"Rohit Sharma occupation\"'), 'Nia Sharma (born Neha Sharma, 17 September 1990) is an Indian actress and model who appears in Hindi television. She is known for her roles as Manvi Chaudhary in Ek Hazaaron Mein Meri Behna Hai, Zee TV\\'s Jamai Raja as Roshni Patel, Colors TV\\'s Ishq Mein Marjawan as Aarohi Kashyap and Naagin 4 as Brinda Parekh. In 2017, she participated in Khatron Ke Khiladi 8 and finished as a finalist.\\nIn 2020, she participated in Khatron Ke Khiladi – Made in India and emerged as the winner. Sharma entered the digital world in 2017 with Vikram Bhatt\\'s web series Twisted. In 2021, she was seen in the second season of her web series Jamai 2.0, which released digitally on ZEE5. In 2022, Sharma was seen as a contestant in Colors TV\\'s dance reality show Jhalak Dikhhla Jaa 10.\\nSince 2024, she is portraying a witch \"Nishigandha\" in Colors TV\\'S supernatural thriller show Suhagan Chudail. Sharma also participated in Laughter Chefs – Unlimited Entertainment which premiered on 1 June 2024 on Colors TV.')]}\n",
      "tool='Search' tool_input='Virat Kohli profession' log='I should try searching for Virat Kohli\\'s profession instead.\\nAction: Search\\nAction Input: \"Virat Kohli profession\"'\n",
      "observation=\"Virat Kohli (Hindi pronunciation: [ʋɪˈɾɑːʈ ˈkoːɦli] ; born 5 November 1988) is an Indian international cricketer who plays Test and One Day International (ODI) cricket for the Indian national team. A former captain in all formats, Kohli retired from Twenty20 International (T20I) following India's win at the 2024 T20 World Cup. He is a right-handed batsman and an occasional unorthodox right arm quick bowler. He represents Royal Challengers Bengaluru in the Indian Premier League (IPL) and Delhi in domestic cricket. He holds the record as the highest run-scorer in  IPL, ranks third in T20I, third in ODI, and stands as the fourth-highest in international cricket. He also holds the record for scoring the most centuries in ODI cricket and stands second in the list of most international centuries scored. Kohli is widely regarded as one of the greatest batsmen of all time and the greatest batsman in the modern era. Kohli was a key member of the Indian team that won the 2011 Cricket World Cup, 2013 Champions Trophy and 2024 T20 World Cup and captained India to win the ICC Test mace three consecutive times in 2017, 2018, and 2019.\\nIn 2013, Kohli was ranked number one in the ICC rankings for ODI batsmen. In 2015, he achieved the summit of T20I rankings. In 2018, he was ranked top Test batsman, making him the only Indian cricketer to hold the number one spot in all three formats of the game. He is the first player to score 20,000 runs in a decade. In 2020, the International Cricket Council named him the male cricketer of the decade.\\nKohli has garnered 10 ICC Awards which is more than any player in International Cricket, making him the most decorated player in International Cricket history. He won the ICC ODI Player of the Year award four times in 2012, 2017, 2018, and 2023. He also won the Sir Garfield Sobers Trophy, given to the ICC Cricketer of the Year, on two occasions, in 2017 and 2018 respectively. In 2018, he became the first player to win both ICC ODI and Test Player of the Year awards in the same year. Also, he was named the Wisden Leading Cricketer in the World for three consecutive years, from 2016 to 2018. Kohli has the second most and most 'Player of the Match' and 'Player of the Series' awards to his name, respectively, in all three formats combined.  At the national level, Kohli was honoured with the Arjuna Award in 2013, the Padma Shri in 2017, and India's highest sporting honour, the Khel Ratna Award, in 2018. In 2018, Time magazine included him on its list of the 100 most influential people in the world.\\nAfter winning the 2024 T20 World Cup, Kohli announced his retirement from T20I.\" \n",
      "\n",
      "\n",
      "\n",
      " {'input': 'What profession does rohit sharma and virat kohli have in common?', 'agent_scratchpad': [(AgentAction(tool='Search', tool_input='Rohit Sharma profession', log='I should search for the professions of Rohit Sharma and Virat Kohli.\\nAction: Search\\nAction Input: \"Rohit Sharma profession\"'), \"Could not find [Rohit Sharma profession]. Similar: ['Anushka Sharma', 'KL Rahul', 'Rohit Bohra', 'Singham', 'Shoaib Ali Bukhari', 'Jyotirmoy Dey', 'Desi Boyz', 'Dhadkan Zindaggi Kii', 'Kailash Hospital', 'Maddam Sir']\"), (AgentAction(tool='Search', tool_input='Rohit Sharma occupation', log='I should try a different search term to find Rohit Sharma\\'s profession.\\nAction: Search\\nAction Input: \"Rohit Sharma occupation\"'), 'Nia Sharma (born Neha Sharma, 17 September 1990) is an Indian actress and model who appears in Hindi television. She is known for her roles as Manvi Chaudhary in Ek Hazaaron Mein Meri Behna Hai, Zee TV\\'s Jamai Raja as Roshni Patel, Colors TV\\'s Ishq Mein Marjawan as Aarohi Kashyap and Naagin 4 as Brinda Parekh. In 2017, she participated in Khatron Ke Khiladi 8 and finished as a finalist.\\nIn 2020, she participated in Khatron Ke Khiladi – Made in India and emerged as the winner. Sharma entered the digital world in 2017 with Vikram Bhatt\\'s web series Twisted. In 2021, she was seen in the second season of her web series Jamai 2.0, which released digitally on ZEE5. In 2022, Sharma was seen as a contestant in Colors TV\\'s dance reality show Jhalak Dikhhla Jaa 10.\\nSince 2024, she is portraying a witch \"Nishigandha\" in Colors TV\\'S supernatural thriller show Suhagan Chudail. Sharma also participated in Laughter Chefs – Unlimited Entertainment which premiered on 1 June 2024 on Colors TV.'), (AgentAction(tool='Search', tool_input='Virat Kohli profession', log='I should try searching for Virat Kohli\\'s profession instead.\\nAction: Search\\nAction Input: \"Virat Kohli profession\"'), \"Virat Kohli (Hindi pronunciation: [ʋɪˈɾɑːʈ ˈkoːɦli] ; born 5 November 1988) is an Indian international cricketer who plays Test and One Day International (ODI) cricket for the Indian national team. A former captain in all formats, Kohli retired from Twenty20 International (T20I) following India's win at the 2024 T20 World Cup. He is a right-handed batsman and an occasional unorthodox right arm quick bowler. He represents Royal Challengers Bengaluru in the Indian Premier League (IPL) and Delhi in domestic cricket. He holds the record as the highest run-scorer in  IPL, ranks third in T20I, third in ODI, and stands as the fourth-highest in international cricket. He also holds the record for scoring the most centuries in ODI cricket and stands second in the list of most international centuries scored. Kohli is widely regarded as one of the greatest batsmen of all time and the greatest batsman in the modern era. Kohli was a key member of the Indian team that won the 2011 Cricket World Cup, 2013 Champions Trophy and 2024 T20 World Cup and captained India to win the ICC Test mace three consecutive times in 2017, 2018, and 2019.\\nIn 2013, Kohli was ranked number one in the ICC rankings for ODI batsmen. In 2015, he achieved the summit of T20I rankings. In 2018, he was ranked top Test batsman, making him the only Indian cricketer to hold the number one spot in all three formats of the game. He is the first player to score 20,000 runs in a decade. In 2020, the International Cricket Council named him the male cricketer of the decade.\\nKohli has garnered 10 ICC Awards which is more than any player in International Cricket, making him the most decorated player in International Cricket history. He won the ICC ODI Player of the Year award four times in 2012, 2017, 2018, and 2023. He also won the Sir Garfield Sobers Trophy, given to the ICC Cricketer of the Year, on two occasions, in 2017 and 2018 respectively. In 2018, he became the first player to win both ICC ODI and Test Player of the Year awards in the same year. Also, he was named the Wisden Leading Cricketer in the World for three consecutive years, from 2016 to 2018. Kohli has the second most and most 'Player of the Match' and 'Player of the Series' awards to his name, respectively, in all three formats combined.  At the national level, Kohli was honoured with the Arjuna Award in 2013, the Padma Shri in 2017, and India's highest sporting honour, the Khel Ratna Award, in 2018. In 2018, Time magazine included him on its list of the 100 most influential people in the world.\\nAfter winning the 2024 T20 World Cup, Kohli announced his retirement from T20I.\")]}\n",
      "return_values={'output': 'Rohit Sharma and Virat Kohli both have the profession of being international cricketers.'} log='I now know the final answer\\nFinal Answer: Rohit Sharma and Virat Kohli both have the profession of being international cricketers.'\n",
      "\n",
      "\n",
      " {'output': 'Rohit Sharma and Virat Kohli both have the profession of being international cricketers.'}\n"
     ]
    }
   ],
   "source": [
    "# Process the agent's actions and handle responses\n",
    "intermediate_steps = []\n",
    "agent_step = \"\"\n",
    "while not isinstance(agent_step, AgentFinish):\n",
    "    input =  {\n",
    "            \"input\": 'What profession does rohit sharma and virat kohli have in common?',\n",
    "            \"agent_scratchpad\": intermediate_steps,\n",
    "        }\n",
    "    print('\\n\\n',input)\n",
    "    agent_step: Union[AgentAction, AgentFinish] = agent.invoke(\n",
    "       input\n",
    "    )\n",
    "    print(agent_step)\n",
    "\n",
    "    if isinstance(agent_step, AgentAction):\n",
    "        # Find the tool to use based on the agent's action\n",
    "        tool_name = agent_step.tool\n",
    "        tool_to_use = find_tool_by_name(tools, tool_name)\n",
    "        tool_input = agent_step.tool_input\n",
    "        \n",
    "        # Execute the tool function and get the observation\n",
    "        observation = tool_to_use.func(str(tool_input))\n",
    "        print(f\"{observation=}\", '\\n')\n",
    "        intermediate_steps.append((agent_step, str(observation)))\n",
    "\n",
    "\n",
    "# Print the final result once the agent finishes\n",
    "if isinstance(agent_step, AgentFinish):\n",
    "    print('\\n\\n', agent_step.return_values)"
   ]
  },
  {
   "cell_type": "code",
   "execution_count": 21,
   "metadata": {},
   "outputs": [
    {
     "name": "stdout",
     "output_type": "stream",
     "text": [
      "return_values={'output': 'Rohit Sharma and Virat Kohli both have the profession of being international cricketers.'} log='I now know the final answer\\nFinal Answer: Rohit Sharma and Virat Kohli both have the profession of being international cricketers.'\n"
     ]
    }
   ],
   "source": [
    "print(agent_step)"
   ]
  },
  {
   "cell_type": "code",
   "execution_count": null,
   "metadata": {},
   "outputs": [],
   "source": []
  },
  {
   "cell_type": "code",
   "execution_count": 13,
   "metadata": {},
   "outputs": [
    {
     "name": "stdout",
     "output_type": "stream",
     "text": [
      "Search(term: 'str') -> 'str' - useful for when you need to ask with search\n",
      "Lookup(term: 'str') -> 'str' - useful for when you need to ask with lookup\n"
     ]
    }
   ],
   "source": [
    "# code to show how tool information is passed to LLM for reasoning\n",
    "print(render_text_description(tools))"
   ]
  },
  {
   "cell_type": "code",
   "execution_count": 14,
   "metadata": {},
   "outputs": [
    {
     "data": {
      "text/plain": [
       "(AgentAction(tool='Search', tool_input='Virat Kohli profession', log='I should try searching for Virat Kohli\\'s profession instead.\\nAction: Search\\nAction Input: \"Virat Kohli profession\"'),\n",
       " \"Virat Kohli (Hindi pronunciation: [ʋɪˈɾɑːʈ ˈkoːɦli] ; born 5 November 1988) is an Indian international cricketer who plays Test and One Day International (ODI) cricket for the Indian national team. A former captain in all formats, Kohli retired from Twenty20 International (T20I) following India's win at the 2024 T20 World Cup. He is a right-handed batsman and an occasional unorthodox right arm quick bowler. He represents Royal Challengers Bengaluru in the Indian Premier League (IPL) and Delhi in domestic cricket. He holds the record as the highest run-scorer in  IPL, ranks third in T20I, third in ODI, and stands as the fourth-highest in international cricket. He also holds the record for scoring the most centuries in ODI cricket and stands second in the list of most international centuries scored. Kohli is widely regarded as one of the greatest batsmen of all time and the greatest batsman in the modern era. Kohli was a key member of the Indian team that won the 2011 Cricket World Cup, 2013 Champions Trophy and 2024 T20 World Cup and captained India to win the ICC Test mace three consecutive times in 2017, 2018, and 2019.\\nIn 2013, Kohli was ranked number one in the ICC rankings for ODI batsmen. In 2015, he achieved the summit of T20I rankings. In 2018, he was ranked top Test batsman, making him the only Indian cricketer to hold the number one spot in all three formats of the game. He is the first player to score 20,000 runs in a decade. In 2020, the International Cricket Council named him the male cricketer of the decade.\\nKohli has garnered 10 ICC Awards which is more than any player in International Cricket, making him the most decorated player in International Cricket history. He won the ICC ODI Player of the Year award four times in 2012, 2017, 2018, and 2023. He also won the Sir Garfield Sobers Trophy, given to the ICC Cricketer of the Year, on two occasions, in 2017 and 2018 respectively. In 2018, he became the first player to win both ICC ODI and Test Player of the Year awards in the same year. Also, he was named the Wisden Leading Cricketer in the World for three consecutive years, from 2016 to 2018. Kohli has the second most and most 'Player of the Match' and 'Player of the Series' awards to his name, respectively, in all three formats combined.  At the national level, Kohli was honoured with the Arjuna Award in 2013, the Padma Shri in 2017, and India's highest sporting honour, the Khel Ratna Award, in 2018. In 2018, Time magazine included him on its list of the 100 most influential people in the world.\\nAfter winning the 2024 T20 World Cup, Kohli announced his retirement from T20I.\")"
      ]
     },
     "execution_count": 14,
     "metadata": {},
     "output_type": "execute_result"
    }
   ],
   "source": [
    "# last thought of LLM\n",
    "intermediate_steps[-1]"
   ]
  },
  {
   "cell_type": "code",
   "execution_count": 15,
   "metadata": {},
   "outputs": [
    {
     "data": {
      "text/plain": [
       "(langchain_core.agents.AgentAction,\n",
       " AgentAction(tool='Search', tool_input='Virat Kohli profession', log='I should try searching for Virat Kohli\\'s profession instead.\\nAction: Search\\nAction Input: \"Virat Kohli profession\"'))"
      ]
     },
     "execution_count": 15,
     "metadata": {},
     "output_type": "execute_result"
    }
   ],
   "source": [
    "a = intermediate_steps[-1][0]\n",
    "type(a), a"
   ]
  },
  {
   "cell_type": "code",
   "execution_count": 16,
   "metadata": {},
   "outputs": [
    {
     "data": {
      "text/plain": [
       "('Search',\n",
       " Tool(name='Search', description='useful for when you need to ask with search', func=<bound method DocstoreExplorer.search of <langchain.agents.react.base.DocstoreExplorer object at 0x000001E2477012A0>>),\n",
       " 'Virat Kohli profession')"
      ]
     },
     "execution_count": 16,
     "metadata": {},
     "output_type": "execute_result"
    }
   ],
   "source": [
    "# code to show tool selection process internally\n",
    "tool_name = a.tool\n",
    "tool_to_use = find_tool_by_name(tools, tool_name)\n",
    "tool_input = a.tool_input\n",
    "tool_name, tool_to_use,tool_input"
   ]
  },
  {
   "cell_type": "code",
   "execution_count": 19,
   "metadata": {},
   "outputs": [
    {
     "name": "stdout",
     "output_type": "stream",
     "text": [
      "Virat Kohli (Hindi pronunciation: [ʋɪˈɾɑːʈ ˈkoːɦli] ; born 5 November 1988) is an Indian international cricketer who plays Test and One Day International (ODI) cricket for the Indian national team. A former captain in all formats, Kohli retired from Twenty20 International (T20I) following India's win at the 2024 T20 World Cup. He is a right-handed batsman and an occasional unorthodox right arm quick bowler. He represents Royal Challengers Bengaluru in the Indian Premier League (IPL) and Delhi in domestic cricket. He holds the record as the highest run-scorer in  IPL, ranks third in T20I, third in ODI, and stands as the fourth-highest in international cricket. He also holds the record for scoring the most centuries in ODI cricket and stands second in the list of most international centuries scored. Kohli is widely regarded as one of the greatest batsmen of all time and the greatest batsman in the modern era. Kohli was a key member of the Indian team that won the 2011 Cricket World Cup, 2013 Champions Trophy and 2024 T20 World Cup and captained India to win the ICC Test mace three consecutive times in 2017, 2018, and 2019.\n",
      "In 2013, Kohli was ranked number one in the ICC rankings for ODI batsmen. In 2015, he achieved the summit of T20I rankings. In 2018, he was ranked top Test batsman, making him the only Indian cricketer to hold the number one spot in all three formats of the game. He is the first player to score 20,000 runs in a decade. In 2020, the International Cricket Council named him the male cricketer of the decade.\n",
      "Kohli has garnered 10 ICC Awards which is more than any player in International Cricket, making him the most decorated player in International Cricket history. He won the ICC ODI Player of the Year award four times in 2012, 2017, 2018, and 2023. He also won the Sir Garfield Sobers Trophy, given to the ICC Cricketer of the Year, on two occasions, in 2017 and 2018 respectively. In 2018, he became the first player to win both ICC ODI and Test Player of the Year awards in the same year. Also, he was named the Wisden Leading Cricketer in the World for three consecutive years, from 2016 to 2018. Kohli has the second most and most 'Player of the Match' and 'Player of the Series' awards to his name, respectively, in all three formats combined.  At the national level, Kohli was honoured with the Arjuna Award in 2013, the Padma Shri in 2017, and India's highest sporting honour, the Khel Ratna Award, in 2018. In 2018, Time magazine included him on its list of the 100 most influential people in the world.\n",
      "After winning the 2024 T20 World Cup, Kohli announced his retirement from T20I.\n"
     ]
    }
   ],
   "source": [
    "# check how tool used\n",
    "print(tool_to_use.invoke(str(tool_input)))"
   ]
  },
  {
   "cell_type": "code",
   "execution_count": null,
   "metadata": {},
   "outputs": [],
   "source": []
  },
  {
   "cell_type": "code",
   "execution_count": null,
   "metadata": {},
   "outputs": [],
   "source": []
  },
  {
   "cell_type": "code",
   "execution_count": null,
   "metadata": {},
   "outputs": [],
   "source": []
  },
  {
   "cell_type": "code",
   "execution_count": null,
   "metadata": {},
   "outputs": [],
   "source": []
  }
 ],
 "metadata": {
  "kernelspec": {
   "display_name": "udemy",
   "language": "python",
   "name": "python3"
  },
  "language_info": {
   "codemirror_mode": {
    "name": "ipython",
    "version": 3
   },
   "file_extension": ".py",
   "mimetype": "text/x-python",
   "name": "python",
   "nbconvert_exporter": "python",
   "pygments_lexer": "ipython3",
   "version": "3.10.14"
  }
 },
 "nbformat": 4,
 "nbformat_minor": 2
}
